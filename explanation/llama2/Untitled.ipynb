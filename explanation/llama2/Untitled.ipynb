{
 "cells": [
  {
   "cell_type": "code",
   "execution_count": 1,
   "id": "ba4e413b-073e-4641-896d-9c2f9d55cbe1",
   "metadata": {},
   "outputs": [
    {
     "name": "stdout",
     "output_type": "stream",
     "text": [
      "['NIPS_2001_11_abs.txt', 'C88-1044.txt', 'H01-1042.txt', 'INTERSPEECH_2013_21_abs.txt', 'P06-3007.txt', 'P05-1039.txt', 'P06-1053.txt', 'P85-1019.txt', 'C04-1036.txt', 'I05-4010.txt', 'ICCV_2003_161_abs.txt', 'ECCV_2012_30_abs.txt', 'E06-1022.txt', 'P04-2005.txt', 'ICML_2016_18_abs.txt', 'X96-1059.txt', 'C04-1106.txt', 'INTERSPEECH_2008_28_abs.txt', 'CVPR_2009_18_abs.txt', 'C04-1103.txt', 'ECCV_2016_110_abs.txt', 'CVPR_2008_256_abs.txt', 'ECCV_2006_13_abs.txt', 'CVPR_2009_10_abs.txt', 'NIPS_2002_11_abs.txt', 'P05-1076.txt', 'J86-4002.txt', 'ICCV_2003_151_abs.txt', 'ICCV_2013_47_abs.txt', 'P03-1070.txt', 'ECCV_2016_212_abs.txt', 'ICCV_2013_25_abs.txt', 'I05-5003.txt', 'C94-1091.txt', 'J05-4003.txt', 'INTERSPEECH_2014_40_abs.txt', 'W02-1602.txt', 'ICML_2016_11_abs.txt', 'C04-1035.txt', 'ICML_2006_119_abs.txt', 'A97-1020.txt', 'E99-1015.txt', 'NIPS_2016_80_abs.txt', 'ICML_2016_10_abs.txt']\n"
     ]
    }
   ],
   "source": [
    "import os\n",
    "import json\n",
    "\n",
    "def check_empty_fields(folder_path):\n",
    "    result = []\n",
    "    for filename in os.listdir(folder_path):\n",
    "        if filename.endswith(\"_generated_entities.json\"):\n",
    "            file_path = os.path.join(folder_path, filename)\n",
    "            with open(file_path, 'r') as file:\n",
    "                data = json.load(file)\n",
    "                \n",
    "            has_empty_field = any(not item[\"entity\"] or not item[\"category\"] for item in data)\n",
    "            \n",
    "            if has_empty_field:\n",
    "                base_name = filename.replace(\"_generated_entities.json\", \".txt\")\n",
    "                result.append(base_name)\n",
    "    \n",
    "    return result\n",
    "\n",
    "# Replace with your actual folder path\n",
    "folder_path = \"llama2_generated_entity_test\"\n",
    "\n",
    "empty_field_files = check_empty_fields(folder_path)\n",
    "\n",
    "if empty_field_files:\n",
    "    print(f\"{empty_field_files}\")\n",
    "else:\n",
    "    print(\"[]\")"
   ]
  },
  {
   "cell_type": "code",
   "execution_count": 9,
   "id": "8afed045-2144-4ce3-9099-a2b3e6a23ba1",
   "metadata": {},
   "outputs": [
    {
     "name": "stdout",
     "output_type": "stream",
     "text": [
      "Number of files to be removed: 47\n"
     ]
    }
   ],
   "source": [
    "import json\n",
    "\n",
    "def count_files_to_remove(processed_files_path, files_to_remove):\n",
    "    # Read the current processed files\n",
    "    with open(processed_files_path, 'r') as file:\n",
    "        processed_files = json.load(file)\n",
    "    \n",
    "    # Count files that exist in both lists\n",
    "    count_to_remove = sum(1 for file in files_to_remove if file in processed_files)\n",
    "    \n",
    "    return count_to_remove\n",
    "\n",
    "def remove_files(processed_files_path, files_to_remove):\n",
    "    # Read the current processed files\n",
    "    with open(processed_files_path, 'r') as file:\n",
    "        processed_files = json.load(file)\n",
    "    \n",
    "    # Remove the specified files\n",
    "    processed_files = [file for file in processed_files if file not in files_to_remove]\n",
    "    \n",
    "    # Write the updated list back to the file\n",
    "    with open(processed_files_path, 'w') as file:\n",
    "        json.dump(processed_files, file, indent=2)\n",
    "\n",
    "# Path to your processed_files.json\n",
    "processed_files_path = \"processed_files.json\"\n",
    "\n",
    "# List of files you want to remove\n",
    "files_to_remove = ['NIPS_2001_11_abs.txt', 'E93-1066.txt', 'CVPR_2003_30_abs.txt', 'CVPR_2006_10_abs.txt', 'P06-1053.txt', 'CVPR_2004_18_abs.txt', 'C04-1036.txt', 'ICCV_2003_161_abs.txt', 'E06-1022.txt', 'J82-3002.txt', 'P04-2005.txt', 'P05-2013.txt', 'X96-1059.txt', 'C04-1106.txt', 'P06-4007.txt', 'ECCV_2016_110_abs.txt', 'NIPS_2016_560_abs.txt', 'CVPR_2008_256_abs.txt', 'ECCV_2006_13_abs.txt', 'ICCV_2001_47_abs.txt', 'J86-4002.txt', 'P06-1013.txt', 'ICCV_2003_151_abs.txt', 'P06-2012.txt', 'P03-1070.txt', 'C04-1128.txt', 'ECCV_2016_212_abs.txt', 'ICCV_2013_25_abs.txt', 'H05-1095.txt', 'ICASSP_2016_11_abs.txt', 'INTERSPEECH_2008_20_abs.txt', 'C08-2010.txt', 'I05-5003.txt', 'ECCV_2016_99_abs.txt', 'J05-4003.txt', 'INTERSPEECH_2014_40_abs.txt', 'J86-3001.txt', 'P08-1105.txt', 'P06-1018.txt', 'CVPR_2016_413_abs.txt', 'CVPR_2004_30_abs.txt', 'P86-1011.txt', 'ECCV_2016_204_abs.txt', 'CVPR_2008_258_abs.txt', 'C96-1062.txt', 'NIPS_2016_80_abs.txt', 'ICML_2016_10_abs.txt']\n",
    "\n",
    "count_to_remove = len(files_to_remove)\n",
    "\n",
    "print(f\"Number of files to be removed: {count_to_remove}\")\n",
    "\n",
    "# # Count files to be removed\n",
    "# count_to_remove = count_files_to_remove(processed_files_path, files_to_remove)\n",
    "\n",
    "# print(f\"Number of files to be removed: {count_to_remove}\")\n",
    "\n",
    "# # Call the function to remove files\n",
    "# remove_files(processed_files_path, files_to_remove)\n",
    "\n",
    "# print(\"Files removed successfully.\")"
   ]
  },
  {
   "cell_type": "code",
   "execution_count": null,
   "id": "bf1d5498-feb5-4ed7-8a55-a7dfc426fbd0",
   "metadata": {},
   "outputs": [],
   "source": []
  }
 ],
 "metadata": {
  "kernelspec": {
   "display_name": "Python 3 (ipykernel)",
   "language": "python",
   "name": "python3"
  },
  "language_info": {
   "codemirror_mode": {
    "name": "ipython",
    "version": 3
   },
   "file_extension": ".py",
   "mimetype": "text/x-python",
   "name": "python",
   "nbconvert_exporter": "python",
   "pygments_lexer": "ipython3",
   "version": "3.12.2"
  }
 },
 "nbformat": 4,
 "nbformat_minor": 5
}
