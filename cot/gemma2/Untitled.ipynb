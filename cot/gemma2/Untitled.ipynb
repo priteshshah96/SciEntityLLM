{
 "cells": [
  {
   "cell_type": "code",
   "execution_count": 2,
   "id": "208199dd-87be-406c-a1c3-73b72345b558",
   "metadata": {},
   "outputs": [
    {
     "name": "stdout",
     "output_type": "stream",
     "text": [
      "Total raw text files: 450\n",
      "Total generated JSON files: 450\n",
      "Number of missing files: 0\n",
      "\n",
      "Missing files:\n"
     ]
    }
   ],
   "source": [
    "import os\n",
    "import json\n",
    "\n",
    "# Directory containing the generated JSON files\n",
    "generated_dir = \"gemma2_generated_entity_test\"\n",
    "\n",
    "# Directory containing the raw text files\n",
    "raw_text_dir = \"/home/shahprit/cot/test\"\n",
    "\n",
    "# Get list of generated JSON files\n",
    "generated_files = [f.replace(\"_generated.json\", \".txt\") for f in os.listdir(generated_dir) if f.endswith(\"_generated.json\")]\n",
    "\n",
    "# Get list of raw text files\n",
    "raw_text_files = [f for f in os.listdir(raw_text_dir) if f.endswith(\".txt\")]\n",
    "\n",
    "# Find missing files\n",
    "missing_files = set(raw_text_files) - set(generated_files)\n",
    "\n",
    "print(f\"Total raw text files: {len(raw_text_files)}\")\n",
    "print(f\"Total generated JSON files: {len(generated_files)}\")\n",
    "print(f\"Number of missing files: {len(missing_files)}\")\n",
    "print(\"\\nMissing files:\")\n",
    "for file in sorted(missing_files):\n",
    "    print(file)"
   ]
  },
  {
   "cell_type": "code",
   "execution_count": null,
   "id": "33ffae51-c314-448b-967b-6c0bc0db2e30",
   "metadata": {},
   "outputs": [],
   "source": []
  }
 ],
 "metadata": {
  "kernelspec": {
   "display_name": "Python 3 (ipykernel)",
   "language": "python",
   "name": "python3"
  },
  "language_info": {
   "codemirror_mode": {
    "name": "ipython",
    "version": 3
   },
   "file_extension": ".py",
   "mimetype": "text/x-python",
   "name": "python",
   "nbconvert_exporter": "python",
   "pygments_lexer": "ipython3",
   "version": "3.12.2"
  }
 },
 "nbformat": 4,
 "nbformat_minor": 5
}
