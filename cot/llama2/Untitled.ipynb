{
 "cells": [
  {
   "cell_type": "code",
   "execution_count": 5,
   "id": "dd988298-506b-42aa-a8fc-69c726c0b80f",
   "metadata": {},
   "outputs": [
    {
     "name": "stdout",
     "output_type": "stream",
     "text": [
      "Removed 1 error files from processed_files.json\n"
     ]
    }
   ],
   "source": [
    "import os\n",
    "import json\n",
    "\n",
    "# Define paths\n",
    "error_folder = 'error'\n",
    "processed_file = 'processed_files.json'\n",
    "\n",
    "# Read error files\n",
    "error_files = [f.replace('_generated.json', '.txt') for f in os.listdir(error_folder) if f.endswith('_generated.json')]\n",
    "\n",
    "# Read processed files\n",
    "with open(processed_file, 'r') as f:\n",
    "    processed_files = json.load(f)\n",
    "\n",
    "# Remove error files from processed files\n",
    "updated_processed_files = [f for f in processed_files if f not in error_files]\n",
    "\n",
    "# Write updated list back to processed_files.json\n",
    "with open(processed_file, 'w') as f:\n",
    "    json.dump(updated_processed_files, f, indent=2)\n",
    "\n",
    "print(f\"Removed {len(processed_files) - len(updated_processed_files)} error files from processed_files.json\")"
   ]
  },
  {
   "cell_type": "code",
   "execution_count": null,
   "id": "b2e3a2da-eb63-4d56-a0da-c128e19e1f1e",
   "metadata": {},
   "outputs": [],
   "source": []
  }
 ],
 "metadata": {
  "kernelspec": {
   "display_name": "Python 3 (ipykernel)",
   "language": "python",
   "name": "python3"
  },
  "language_info": {
   "codemirror_mode": {
    "name": "ipython",
    "version": 3
   },
   "file_extension": ".py",
   "mimetype": "text/x-python",
   "name": "python",
   "nbconvert_exporter": "python",
   "pygments_lexer": "ipython3",
   "version": "3.12.2"
  }
 },
 "nbformat": 4,
 "nbformat_minor": 5
}
