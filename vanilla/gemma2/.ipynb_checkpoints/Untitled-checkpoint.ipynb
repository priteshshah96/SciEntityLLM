{
 "cells": [
  {
   "cell_type": "code",
   "execution_count": 2,
   "id": "bc234b7f-0dc8-4715-a65c-144f5fdf70cf",
   "metadata": {},
   "outputs": [
    {
     "name": "stdout",
     "output_type": "stream",
     "text": [
      "Empty JSON files:\n",
      "L08-1110_generated_entities.json\n",
      "NIPS_2003_10_abs_generated_entities.json\n",
      "INTERSPEECH_2015_16_abs_generated_entities.json\n",
      "CVPR_2008_257_abs_generated_entities.json\n"
     ]
    }
   ],
   "source": [
    "import os\n",
    "import json\n",
    "\n",
    "def list_empty_json_files(folder_path):\n",
    "    empty_files = []\n",
    "    \n",
    "    for filename in os.listdir(folder_path):\n",
    "        if filename.endswith('.json'):\n",
    "            file_path = os.path.join(folder_path, filename)\n",
    "            \n",
    "            try:\n",
    "                with open(file_path, 'r') as file:\n",
    "                    data = json.load(file)\n",
    "                    \n",
    "                if not data:\n",
    "                    empty_files.append(filename)\n",
    "            except json.JSONDecodeError:\n",
    "                # If the file is not a valid JSON, we'll consider it empty\n",
    "                empty_files.append(filename)\n",
    "    \n",
    "    return empty_files\n",
    "\n",
    "# Replace this with the actual path to your folder\n",
    "folder_path = './gemma2_generated_entity_train'\n",
    "\n",
    "empty_files = list_empty_json_files(folder_path)\n",
    "\n",
    "if empty_files:\n",
    "    print(\"Empty JSON files:\")\n",
    "    for file in empty_files:\n",
    "        print(file)\n",
    "else:\n",
    "    print(\"No empty JSON files found.\")"
   ]
  },
  {
   "cell_type": "code",
   "execution_count": 5,
   "id": "f11197ac-9ff9-4c7e-be51-bfd3ee53f1f5",
   "metadata": {},
   "outputs": [
    {
     "name": "stdout",
     "output_type": "stream",
     "text": [
      "Number of JSON files that are empty or have no entities: 0\n",
      "Names of these files:\n",
      "\n",
      "Removed 0 files from processed_files.json:\n"
     ]
    }
   ],
   "source": [
    "import os\n",
    "import json\n",
    "\n",
    "folder_path = 'gemma2_generated_entity_test'\n",
    "processed_files_path = 'processed_files.json'\n",
    "empty_or_no_entities = []\n",
    "\n",
    "# Check for empty or no entities files\n",
    "for filename in os.listdir(folder_path):\n",
    "    if filename.endswith('_generated_entities.json'):\n",
    "        file_path = os.path.join(folder_path, filename)\n",
    "        with open(file_path, 'r') as file:\n",
    "            try:\n",
    "                data = json.load(file)\n",
    "                if not data or (isinstance(data, dict) and 'entities' in data and not data['entities']):\n",
    "                    empty_or_no_entities.append(filename)\n",
    "            except json.JSONDecodeError:\n",
    "                empty_or_no_entities.append(filename)\n",
    "\n",
    "print(f\"Number of JSON files that are empty or have no entities: {len(empty_or_no_entities)}\")\n",
    "print(\"Names of these files:\")\n",
    "for name in empty_or_no_entities:\n",
    "    print(name)\n",
    "\n",
    "# Remove these files from processed_files.json\n",
    "with open(processed_files_path, 'r') as f:\n",
    "    processed_files = json.load(f)\n",
    "\n",
    "processed_files_set = set(processed_files)\n",
    "removed_files = set()\n",
    "\n",
    "for filename in empty_or_no_entities:\n",
    "    # Convert 'X_generated_entities.json' to 'X.txt'\n",
    "    processed_filename = filename.replace('_generated_entities.json', '.txt')\n",
    "    if processed_filename in processed_files_set:\n",
    "        processed_files_set.remove(processed_filename)\n",
    "        removed_files.add(processed_filename)\n",
    "\n",
    "# Update processed_files.json\n",
    "with open(processed_files_path, 'w') as f:\n",
    "    json.dump(list(processed_files_set), f, indent=2)\n",
    "\n",
    "print(f\"\\nRemoved {len(removed_files)} files from processed_files.json:\")\n",
    "for name in removed_files:\n",
    "    print(name)"
   ]
  },
  {
   "cell_type": "code",
   "execution_count": 4,
   "id": "bf3a5048-07f5-4932-8a6b-4d8e13169857",
   "metadata": {},
   "outputs": [
    {
     "name": "stdout",
     "output_type": "stream",
     "text": [
      "Removed 10 files from processed_files.json\n",
      "New count of processed files: 87\n"
     ]
    }
   ],
   "source": [
    "import json\n",
    "\n",
    "# List of files to remove\n",
    "files_to_remove = [\n",
    "    \"C90-3063.txt\",\n",
    "    \"I05-5004.txt\",\n",
    "    \"NIPS_2016_80_abs.txt\",\n",
    "    \"P05-1046.txt\",\n",
    "]\n",
    "\n",
    "# Load the current processed_files.json\n",
    "try:\n",
    "    with open('processed_files.json', 'r') as f:\n",
    "        processed_files = set(json.load(f))\n",
    "except FileNotFoundError:\n",
    "    print(\"processed_files.json not found. Creating a new one.\")\n",
    "    processed_files = set()\n",
    "\n",
    "# Remove the specified files\n",
    "files_removed = processed_files.intersection(files_to_remove)\n",
    "processed_files = processed_files - set(files_to_remove)\n",
    "\n",
    "# Save the updated list back to processed_files.json\n",
    "with open('processed_files.json', 'w') as f:\n",
    "    json.dump(list(processed_files), f, indent=2)\n",
    "\n",
    "print(f\"Removed {len(files_removed)} files from processed_files.json\")\n",
    "print(f\"New count of processed files: {len(processed_files)}\")"
   ]
  },
  {
   "cell_type": "code",
   "execution_count": null,
   "id": "6144ebcf-32b8-4d0c-a999-b1bcee7e7ac2",
   "metadata": {},
   "outputs": [],
   "source": []
  }
 ],
 "metadata": {
  "kernelspec": {
   "display_name": "Python 3 (ipykernel)",
   "language": "python",
   "name": "python3"
  },
  "language_info": {
   "codemirror_mode": {
    "name": "ipython",
    "version": 3
   },
   "file_extension": ".py",
   "mimetype": "text/x-python",
   "name": "python",
   "nbconvert_exporter": "python",
   "pygments_lexer": "ipython3",
   "version": "3.12.2"
  }
 },
 "nbformat": 4,
 "nbformat_minor": 5
}
