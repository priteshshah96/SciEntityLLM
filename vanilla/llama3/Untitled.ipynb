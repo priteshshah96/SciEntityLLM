{
 "cells": [
  {
   "cell_type": "code",
   "execution_count": 2,
   "id": "8cde1714-f7dd-4bab-93ea-cc99d5c13111",
   "metadata": {},
   "outputs": [
    {
     "name": "stdout",
     "output_type": "stream",
     "text": [
      "Empty JSON files:\n",
      "J05-1003_generated_entities.json\n"
     ]
    }
   ],
   "source": [
    "import os\n",
    "import json\n",
    "\n",
    "def list_empty_json_files(folder_path):\n",
    "    empty_files = []\n",
    "    \n",
    "    for filename in os.listdir(folder_path):\n",
    "        if filename.endswith('.json'):\n",
    "            file_path = os.path.join(folder_path, filename)\n",
    "            \n",
    "            try:\n",
    "                with open(file_path, 'r') as file:\n",
    "                    data = json.load(file)\n",
    "                    \n",
    "                if not data:\n",
    "                    empty_files.append(filename)\n",
    "            except json.JSONDecodeError:\n",
    "                # If the file is not a valid JSON, we'll consider it empty\n",
    "                empty_files.append(filename)\n",
    "    \n",
    "    return empty_files\n",
    "\n",
    "# Replace this with the actual path to your folder\n",
    "folder_path = './llama3_generated_entity_train'\n",
    "\n",
    "empty_files = list_empty_json_files(folder_path)\n",
    "\n",
    "if empty_files:\n",
    "    print(\"Empty JSON files:\")\n",
    "    for file in empty_files:\n",
    "        print(file)\n",
    "else:\n",
    "    print(\"No empty JSON files found.\")"
   ]
  },
  {
   "cell_type": "code",
   "execution_count": 5,
   "id": "4834d1b2-f4e2-4c49-8a03-d1271249328e",
   "metadata": {},
   "outputs": [
    {
     "name": "stdout",
     "output_type": "stream",
     "text": [
      "Removed 1 files from processed_files.json\n",
      "New count of processed files: 449\n"
     ]
    }
   ],
   "source": [
    "import json\n",
    "\n",
    "# List of files to remove\n",
    "files_to_remove = [\n",
    "    \"J05-1003.txt\",\n",
    "]\n",
    "\n",
    "# Load the current processed_files.json\n",
    "try:\n",
    "    with open('processed_files.json', 'r') as f:\n",
    "        processed_files = set(json.load(f))\n",
    "except FileNotFoundError:\n",
    "    print(\"processed_files.json not found. Creating a new one.\")\n",
    "    processed_files = set()\n",
    "\n",
    "# Remove the specified files\n",
    "files_removed = processed_files.intersection(files_to_remove)\n",
    "processed_files = processed_files - set(files_to_remove)\n",
    "\n",
    "# Save the updated list back to processed_files.json\n",
    "with open('processed_files.json', 'w') as f:\n",
    "    json.dump(list(processed_files), f, indent=2)\n",
    "\n",
    "print(f\"Removed {len(files_removed)} files from processed_files.json\")\n",
    "print(f\"New count of processed files: {len(processed_files)}\")"
   ]
  },
  {
   "cell_type": "code",
   "execution_count": null,
   "id": "94a48386-c0b2-4e1d-9a3d-ea986201f180",
   "metadata": {},
   "outputs": [],
   "source": []
  }
 ],
 "metadata": {
  "kernelspec": {
   "display_name": "Python 3 (ipykernel)",
   "language": "python",
   "name": "python3"
  },
  "language_info": {
   "codemirror_mode": {
    "name": "ipython",
    "version": 3
   },
   "file_extension": ".py",
   "mimetype": "text/x-python",
   "name": "python",
   "nbconvert_exporter": "python",
   "pygments_lexer": "ipython3",
   "version": "3.12.2"
  }
 },
 "nbformat": 4,
 "nbformat_minor": 5
}
