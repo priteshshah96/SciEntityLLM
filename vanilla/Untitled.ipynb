{
 "cells": [
  {
   "cell_type": "code",
   "execution_count": 9,
   "id": "9b35d846-9c9d-484b-bfad-29db220d766a",
   "metadata": {},
   "outputs": [
    {
     "name": "stdout",
     "output_type": "stream",
     "text": [
      "Folder not found: ./gemma2/gemma2_generated_entities_test\n",
      "Folder not found: ./llama2/llama2_generated_entities_test\n",
      "Folder not found: ./llama3/llama3_generated_entities_test\n",
      "\n",
      "Overall Statistics:\n"
     ]
    }
   ],
   "source": [
    "import os\n",
    "import json\n",
    "\n",
    "def update_json_files(root_folder):\n",
    "    overall_stats = {}\n",
    "    \n",
    "    for folder in ['gemma2', 'llama2', 'llama3']:\n",
    "        folder_path = os.path.join(root_folder, folder, f'{folder}_generated_entities_test')\n",
    "        if not os.path.exists(folder_path):\n",
    "            print(f\"Folder not found: {folder_path}\")\n",
    "            continue\n",
    "        \n",
    "        total_files = 0\n",
    "        files_with_other_scientific_term = 0\n",
    "        total_other_scientific_term_occurrences = 0\n",
    "        \n",
    "        for filename in os.listdir(folder_path):\n",
    "            if filename.endswith('.json'):\n",
    "                total_files += 1\n",
    "                file_path = os.path.join(folder_path, filename)\n",
    "                \n",
    "                with open(file_path, 'r') as file:\n",
    "                    data = json.load(file)\n",
    "                \n",
    "                updated = False\n",
    "                other_scientific_term_count = 0\n",
    "                for item in data:\n",
    "                    if item['category'] == 'Other-Scientific-Term':\n",
    "                        item['category'] = 'OtherScientificTerm'\n",
    "                        updated = True\n",
    "                        other_scientific_term_count += 1\n",
    "                \n",
    "                if updated:\n",
    "                    with open(file_path, 'w') as file:\n",
    "                        json.dump(data, file, indent=2)\n",
    "                    print(f\"Updated: {file_path}\")\n",
    "                    files_with_other_scientific_term += 1\n",
    "                    total_other_scientific_term_occurrences += other_scientific_term_count\n",
    "                else:\n",
    "                    print(f\"No changes needed: {file_path}\")\n",
    "        \n",
    "        overall_stats[folder] = {\n",
    "            \"total_files\": total_files,\n",
    "            \"files_with_other_scientific_term\": files_with_other_scientific_term,\n",
    "            \"total_other_scientific_term_occurrences\": total_other_scientific_term_occurrences\n",
    "        }\n",
    "    \n",
    "    print(\"\\nOverall Statistics:\")\n",
    "    for folder, stats in overall_stats.items():\n",
    "        print(f\"\\n{folder.upper()}:\")\n",
    "        print(f\"  Total files: {stats['total_files']}\")\n",
    "        print(f\"  Files with 'Other-Scientific-Term': {stats['files_with_other_scientific_term']}\")\n",
    "        print(f\"  Total 'Other-Scientific-Term' occurrences: {stats['total_other_scientific_term_occurrences']}\")\n",
    "\n",
    "# Usage\n",
    "root_folder = '.'  # Use current directory as root\n",
    "update_json_files(root_folder)"
   ]
  },
  {
   "cell_type": "code",
   "execution_count": null,
   "id": "7535be2c-5863-4acc-85b1-3179b84d7a96",
   "metadata": {},
   "outputs": [],
   "source": []
  }
 ],
 "metadata": {
  "kernelspec": {
   "display_name": "Python 3 (ipykernel)",
   "language": "python",
   "name": "python3"
  },
  "language_info": {
   "codemirror_mode": {
    "name": "ipython",
    "version": 3
   },
   "file_extension": ".py",
   "mimetype": "text/x-python",
   "name": "python",
   "nbconvert_exporter": "python",
   "pygments_lexer": "ipython3",
   "version": "3.12.2"
  }
 },
 "nbformat": 4,
 "nbformat_minor": 5
}
