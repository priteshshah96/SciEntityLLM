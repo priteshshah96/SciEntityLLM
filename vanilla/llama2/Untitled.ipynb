{
 "cells": [
  {
   "cell_type": "code",
   "execution_count": 3,
   "id": "75fcd159-8ab1-4290-93ee-eb647a9e5202",
   "metadata": {},
   "outputs": [
    {
     "name": "stdout",
     "output_type": "stream",
     "text": [
      "Number of JSON files that are empty or have no entities: 4\n",
      "Names of these files:\n",
      "CVPR_1993_10_abs_generated_entities.json\n",
      "P04-2005_generated_entities.json\n",
      "C90-3045_generated_entities.json\n",
      "W02-1602_generated_entities.json\n",
      "\n",
      "Removed 4 files from processed_files.json:\n",
      "C90-3045.txt\n",
      "CVPR_1993_10_abs.txt\n",
      "W02-1602.txt\n",
      "P04-2005.txt\n"
     ]
    }
   ],
   "source": [
    "import os\n",
    "import json\n",
    "\n",
    "folder_path = 'llama2_generated_entity_test'\n",
    "processed_files_path = 'processed_files.json'\n",
    "empty_or_no_entities = []\n",
    "\n",
    "# Check for empty or no entities files\n",
    "for filename in os.listdir(folder_path):\n",
    "    if filename.endswith('_generated_entities.json'):\n",
    "        file_path = os.path.join(folder_path, filename)\n",
    "        with open(file_path, 'r') as file:\n",
    "            try:\n",
    "                data = json.load(file)\n",
    "                if not data or (isinstance(data, dict) and 'entities' in data and not data['entities']):\n",
    "                    empty_or_no_entities.append(filename)\n",
    "            except json.JSONDecodeError:\n",
    "                empty_or_no_entities.append(filename)\n",
    "\n",
    "print(f\"Number of JSON files that are empty or have no entities: {len(empty_or_no_entities)}\")\n",
    "print(\"Names of these files:\")\n",
    "for name in empty_or_no_entities:\n",
    "    print(name)\n",
    "\n",
    "# Remove these files from processed_files.json\n",
    "with open(processed_files_path, 'r') as f:\n",
    "    processed_files = json.load(f)\n",
    "\n",
    "processed_files_set = set(processed_files)\n",
    "removed_files = set()\n",
    "\n",
    "for filename in empty_or_no_entities:\n",
    "    # Convert 'X_generated_entities.json' to 'X.txt'\n",
    "    processed_filename = filename.replace('_generated_entities.json', '.txt')\n",
    "    if processed_filename in processed_files_set:\n",
    "        processed_files_set.remove(processed_filename)\n",
    "        removed_files.add(processed_filename)\n",
    "\n",
    "# Update processed_files.json\n",
    "with open(processed_files_path, 'w') as f:\n",
    "    json.dump(list(processed_files_set), f, indent=2)\n",
    "\n",
    "print(f\"\\nRemoved {len(removed_files)} files from processed_files.json:\")\n",
    "for name in removed_files:\n",
    "    print(name)"
   ]
  },
  {
   "cell_type": "code",
   "execution_count": 8,
   "id": "04fcadb3-688b-4a2e-94ab-c1fd5ca2feed",
   "metadata": {},
   "outputs": [
    {
     "name": "stdout",
     "output_type": "stream",
     "text": [
      "Removed 1 files from processed_files.json\n",
      "New count of processed files: 449\n"
     ]
    }
   ],
   "source": [
    "import json\n",
    "\n",
    "# List of files to remove\n",
    "files_to_remove = [\n",
    "    \"CVPR_2008_256_abs.txt\",\n",
    "]\n",
    "\n",
    "# Load the current processed_files.json\n",
    "try:\n",
    "    with open('processed_files.json', 'r') as f:\n",
    "        processed_files = set(json.load(f))\n",
    "except FileNotFoundError:\n",
    "    print(\"processed_files.json not found. Creating a new one.\")\n",
    "    processed_files = set()\n",
    "\n",
    "# Remove the specified files\n",
    "files_removed = processed_files.intersection(files_to_remove)\n",
    "processed_files = processed_files - set(files_to_remove)\n",
    "\n",
    "# Save the updated list back to processed_files.json\n",
    "with open('processed_files.json', 'w') as f:\n",
    "    json.dump(list(processed_files), f, indent=2)\n",
    "\n",
    "print(f\"Removed {len(files_removed)} files from processed_files.json\")\n",
    "print(f\"New count of processed files: {len(processed_files)}\")"
   ]
  },
  {
   "cell_type": "code",
   "execution_count": null,
   "id": "94a98948-e56e-4b86-b615-d6de3c415f59",
   "metadata": {},
   "outputs": [],
   "source": []
  }
 ],
 "metadata": {
  "kernelspec": {
   "display_name": "Python 3 (ipykernel)",
   "language": "python",
   "name": "python3"
  },
  "language_info": {
   "codemirror_mode": {
    "name": "ipython",
    "version": 3
   },
   "file_extension": ".py",
   "mimetype": "text/x-python",
   "name": "python",
   "nbconvert_exporter": "python",
   "pygments_lexer": "ipython3",
   "version": "3.12.2"
  }
 },
 "nbformat": 4,
 "nbformat_minor": 5
}
